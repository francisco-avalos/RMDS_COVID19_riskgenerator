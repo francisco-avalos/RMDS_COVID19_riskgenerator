{
 "cells": [
  {
   "cell_type": "code",
   "execution_count": 5,
   "metadata": {},
   "outputs": [],
   "source": [
    "#%%\n",
    "import glob\n",
    "import os\n",
    "\n",
    "import pandas as pd\n",
    "#%%\n",
    "os.chdir(\"/Users/yenchenchou/Documents/RMDS_YC/RiskScore/RMDS_COVID19_riskgenerator\")\n",
    "# %%\n"
   ]
  },
  {
   "cell_type": "code",
   "execution_count": 8,
   "metadata": {},
   "outputs": [
    {
     "data": {
      "text/html": [
       "<div>\n",
       "<style scoped>\n",
       "    .dataframe tbody tr th:only-of-type {\n",
       "        vertical-align: middle;\n",
       "    }\n",
       "\n",
       "    .dataframe tbody tr th {\n",
       "        vertical-align: top;\n",
       "    }\n",
       "\n",
       "    .dataframe thead th {\n",
       "        text-align: right;\n",
       "    }\n",
       "</style>\n",
       "<table border=\"1\" class=\"dataframe\">\n",
       "  <thead>\n",
       "    <tr style=\"text-align: right;\">\n",
       "      <th></th>\n",
       "      <th>safegraph_place_id</th>\n",
       "      <th>date_range_start</th>\n",
       "      <th>visits_by_day</th>\n",
       "      <th>visits_by_each_hour</th>\n",
       "      <th>median_dwell</th>\n",
       "    </tr>\n",
       "  </thead>\n",
       "  <tbody>\n",
       "    <tr>\n",
       "      <th>0</th>\n",
       "      <td>sg:0001066808bf4bcd8b26dafd03d173e4</td>\n",
       "      <td>2020-07-27T00:00:00-07:00</td>\n",
       "      <td>[3,3,0,4,5,0,1]</td>\n",
       "      <td>[0,0,0,0,0,0,0,0,0,0,0,0,1,0,0,0,1,1,0,0,0,0,0...</td>\n",
       "      <td>13.0</td>\n",
       "    </tr>\n",
       "    <tr>\n",
       "      <th>1</th>\n",
       "      <td>sg:000327db9571452cb48992987e108874</td>\n",
       "      <td>2020-07-27T00:00:00-06:00</td>\n",
       "      <td>[13,19,17,16,18,8,20]</td>\n",
       "      <td>[0,0,0,0,0,0,1,2,2,0,4,0,1,0,0,0,1,0,2,0,0,0,0...</td>\n",
       "      <td>123.0</td>\n",
       "    </tr>\n",
       "    <tr>\n",
       "      <th>2</th>\n",
       "      <td>sg:00089139005248b4b3602e0ca5cfeda1</td>\n",
       "      <td>2020-07-27T00:00:00-04:00</td>\n",
       "      <td>[1,7,3,0,1,0,0]</td>\n",
       "      <td>[0,0,0,0,0,0,0,0,0,0,0,0,0,1,0,0,0,0,0,0,0,0,0...</td>\n",
       "      <td>42.5</td>\n",
       "    </tr>\n",
       "  </tbody>\n",
       "</table>\n",
       "</div>"
      ],
      "text/plain": [
       "                    safegraph_place_id           date_range_start  \\\n",
       "0  sg:0001066808bf4bcd8b26dafd03d173e4  2020-07-27T00:00:00-07:00   \n",
       "1  sg:000327db9571452cb48992987e108874  2020-07-27T00:00:00-06:00   \n",
       "2  sg:00089139005248b4b3602e0ca5cfeda1  2020-07-27T00:00:00-04:00   \n",
       "\n",
       "           visits_by_day                                visits_by_each_hour  \\\n",
       "0        [3,3,0,4,5,0,1]  [0,0,0,0,0,0,0,0,0,0,0,0,1,0,0,0,1,1,0,0,0,0,0...   \n",
       "1  [13,19,17,16,18,8,20]  [0,0,0,0,0,0,1,2,2,0,4,0,1,0,0,0,1,0,2,0,0,0,0...   \n",
       "2        [1,7,3,0,1,0,0]  [0,0,0,0,0,0,0,0,0,0,0,0,0,1,0,0,0,0,0,0,0,0,0...   \n",
       "\n",
       "   median_dwell  \n",
       "0          13.0  \n",
       "1         123.0  \n",
       "2          42.5  "
      ]
     },
     "execution_count": 8,
     "metadata": {},
     "output_type": "execute_result"
    }
   ],
   "source": [
    "df = pd.read_csv(\n",
    "    \"data/external/weekly_pattern/0729/patterns-part4.csv.gz\", \n",
    "    compression=\"gzip\",\n",
    "    usecols=[\"safegraph_place_id\",\n",
    "             \"visits_by_day\",\n",
    "             \"visits_by_each_hour\",\n",
    "             \"median_dwell\",\n",
    "             \"date_range_start\"])\n"
   ]
  },
  {
   "cell_type": "code",
   "execution_count": null,
   "metadata": {},
   "outputs": [],
   "source": [
    "df.head(3)"
   ]
  }
 ],
 "metadata": {
  "kernelspec": {
   "display_name": "Python 3",
   "language": "python",
   "name": "python3"
  },
  "language_info": {
   "codemirror_mode": {
    "name": "ipython",
    "version": 3
   },
   "file_extension": ".py",
   "mimetype": "text/x-python",
   "name": "python",
   "nbconvert_exporter": "python",
   "pygments_lexer": "ipython3",
   "version": "3.7.3"
  }
 },
 "nbformat": 4,
 "nbformat_minor": 4
}
