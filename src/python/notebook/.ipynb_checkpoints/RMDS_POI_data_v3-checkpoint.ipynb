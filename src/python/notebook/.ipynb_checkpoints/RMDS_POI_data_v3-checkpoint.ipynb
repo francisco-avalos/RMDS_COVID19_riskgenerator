{
 "cells": [
  {
   "cell_type": "code",
   "execution_count": 1,
   "metadata": {},
   "outputs": [],
   "source": [
    "import json\n",
    "import os\n",
    "import re\n",
    "import time\n",
    "\n",
    "import numpy as np\n",
    "import pandas as pd\n",
    "\n",
    "from collections import defaultdict\n",
    "from geopy.geocoders import Nominatim\n",
    "\n",
    "%matplotlib inline\n",
    "pd.options.display.max_columns = 99\n",
    "os.chdir(\"/Users/yenchenchou/Documents/RMDS_YC/RiskScore/RMDS_COVID19_riskgenerator\")"
   ]
  },
  {
   "cell_type": "code",
   "execution_count": null,
   "metadata": {},
   "outputs": [],
   "source": [
    "df = pd.read_csv(\n",
    "    \"data/external/Core-USA-July2020-Release-CORE_POI-2020_06-2020-07-13/core_poi-part1.csv.gz\",\n",
    "    compression=\"gzip\")"
   ]
  },
  {
   "cell_type": "code",
   "execution_count": null,
   "metadata": {},
   "outputs": [],
   "source": [
    "df.head(5)"
   ]
  },
  {
   "cell_type": "code",
   "execution_count": null,
   "metadata": {},
   "outputs": [],
   "source": [
    "df.shape"
   ]
  },
  {
   "cell_type": "code",
   "execution_count": null,
   "metadata": {},
   "outputs": [],
   "source": [
    "def data_filter(df):\n",
    "    \n",
    "    filter_ls = [\"Restaurants and Other Eating Places\", \"Grocery Stores\"]\n",
    "    #     df = df[df[\"top_category\"].isin(filter_ls)].copy()\n",
    "    \n",
    "    df = df[df[\"region\"] == \"CA\"].copy()\n",
    "    df = df[[\"safegraph_place_id\", \n",
    "            \"latitude\",\n",
    "            \"longitude\",\n",
    "            \"city\",\n",
    "            \"postal_code\"]]\n",
    "    df[\"community\"] = df[\"postal_code\"].apply(lambda x: mapping(x))\n",
    "    df = df[df[\"community\"].notnull()]\n",
    "    \n",
    "    return df\n",
    "\n",
    "\n",
    "def mapping(x):\n",
    "    with open(\"data/internal/zipcode_mapper.json\") as file:\n",
    "        mapper_dict = json.load(file)\n",
    "    mapper_dict = {str(key):val for key, val in mapper_dict.items()}\n",
    "    try: \n",
    "        return mapper_dict[str(x)]\n",
    "    except:\n",
    "        pass"
   ]
  },
  {
   "cell_type": "code",
   "execution_count": null,
   "metadata": {},
   "outputs": [],
   "source": [
    "now = time.time()\n",
    "df_filter = data_filter(df)\n",
    "later = time.time()\n",
    "print(later - now)"
   ]
  },
  {
   "cell_type": "code",
   "execution_count": null,
   "metadata": {},
   "outputs": [],
   "source": [
    "df_filter.info()"
   ]
  },
  {
   "cell_type": "code",
   "execution_count": null,
   "metadata": {},
   "outputs": [],
   "source": []
  },
  {
   "cell_type": "code",
   "execution_count": null,
   "metadata": {},
   "outputs": [],
   "source": []
  },
  {
   "cell_type": "code",
   "execution_count": null,
   "metadata": {},
   "outputs": [],
   "source": []
  }
 ],
 "metadata": {
  "kernelspec": {
   "display_name": "Python 3",
   "language": "python",
   "name": "python3"
  },
  "language_info": {
   "codemirror_mode": {
    "name": "ipython",
    "version": 3
   },
   "file_extension": ".py",
   "mimetype": "text/x-python",
   "name": "python",
   "nbconvert_exporter": "python",
   "pygments_lexer": "ipython3",
   "version": "3.7.3"
  }
 },
 "nbformat": 4,
 "nbformat_minor": 4
}
