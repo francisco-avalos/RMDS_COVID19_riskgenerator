{
 "cells": [
  {
   "cell_type": "code",
   "execution_count": 1,
   "metadata": {},
   "outputs": [],
   "source": [
    "import ast\n",
    "import json\n",
    "import os\n",
    "import re\n",
    "import time\n",
    "\n",
    "import bs4\n",
    "import matplotlib.pyplot as plt\n",
    "import numpy as np\n",
    "import pandas as pd\n",
    "import requests\n",
    "import seaborn as sns\n",
    "\n",
    "from collections import defaultdict\n",
    "from datetime import datetime\n",
    "from geopy.geocoders import Nominatim\n",
    "# import jupyterthemes as jt \n",
    "# from jupyterthemes.stylefx import set_nb_theme\n",
    "# from jupyterthemes import get_themes \n",
    "\n",
    "%matplotlib inline\n",
    "pd.options.display.max_columns = 99\n",
    "os.chdir(\"/Users/yenchenchou/Documents/RMDS_YC/RiskScore/RMDS_COVID19_riskgenerator\")"
   ]
  },
  {
   "cell_type": "code",
   "execution_count": 6,
   "metadata": {},
   "outputs": [],
   "source": [
    "df = pd.read_csv(\n",
    "    \"data/external/Core-USA-July2020-Release-CORE_POI-2020_06-2020-07-13/core_poi-part1.csv.gz\",\n",
    "    compression=\"gzip\",\n",
    "    usecols = [\n",
    "        'safegraph_place_id', \n",
    "        'open_hours'])"
   ]
  },
  {
   "cell_type": "code",
   "execution_count": 7,
   "metadata": {},
   "outputs": [
    {
     "data": {
      "text/html": [
       "<div>\n",
       "<style scoped>\n",
       "    .dataframe tbody tr th:only-of-type {\n",
       "        vertical-align: middle;\n",
       "    }\n",
       "\n",
       "    .dataframe tbody tr th {\n",
       "        vertical-align: top;\n",
       "    }\n",
       "\n",
       "    .dataframe thead th {\n",
       "        text-align: right;\n",
       "    }\n",
       "</style>\n",
       "<table border=\"1\" class=\"dataframe\">\n",
       "  <thead>\n",
       "    <tr style=\"text-align: right;\">\n",
       "      <th></th>\n",
       "      <th>safegraph_place_id</th>\n",
       "      <th>open_hours</th>\n",
       "    </tr>\n",
       "  </thead>\n",
       "  <tbody>\n",
       "    <tr>\n",
       "      <th>0</th>\n",
       "      <td>sg:0026d587c9b145b58272cbac7bdea56a</td>\n",
       "      <td>NaN</td>\n",
       "    </tr>\n",
       "    <tr>\n",
       "      <th>1</th>\n",
       "      <td>sg:0037c4dc85f642c6aeaaf318e41b1bf7</td>\n",
       "      <td>{ \"Mon\": [], \"Tue\": [[\"12:00\", \"16:00\"]], \"Wed...</td>\n",
       "    </tr>\n",
       "    <tr>\n",
       "      <th>2</th>\n",
       "      <td>sg:0041bdf50f984826acd68ce19922ecd4</td>\n",
       "      <td>NaN</td>\n",
       "    </tr>\n",
       "    <tr>\n",
       "      <th>3</th>\n",
       "      <td>sg:005761d9681947629bf02a64cfd4aec2</td>\n",
       "      <td>{ \"Mon\": [[\"9:00\", \"18:00\"]], \"Tue\": [[\"9:00\",...</td>\n",
       "    </tr>\n",
       "    <tr>\n",
       "      <th>4</th>\n",
       "      <td>sg:007236f9d77d4158bbd4d55f39d98e49</td>\n",
       "      <td>{ \"Mon\": [[\"8:00\", \"20:00\"]], \"Tue\": [[\"8:00\",...</td>\n",
       "    </tr>\n",
       "  </tbody>\n",
       "</table>\n",
       "</div>"
      ],
      "text/plain": [
       "                    safegraph_place_id  \\\n",
       "0  sg:0026d587c9b145b58272cbac7bdea56a   \n",
       "1  sg:0037c4dc85f642c6aeaaf318e41b1bf7   \n",
       "2  sg:0041bdf50f984826acd68ce19922ecd4   \n",
       "3  sg:005761d9681947629bf02a64cfd4aec2   \n",
       "4  sg:007236f9d77d4158bbd4d55f39d98e49   \n",
       "\n",
       "                                          open_hours  \n",
       "0                                                NaN  \n",
       "1  { \"Mon\": [], \"Tue\": [[\"12:00\", \"16:00\"]], \"Wed...  \n",
       "2                                                NaN  \n",
       "3  { \"Mon\": [[\"9:00\", \"18:00\"]], \"Tue\": [[\"9:00\",...  \n",
       "4  { \"Mon\": [[\"8:00\", \"20:00\"]], \"Tue\": [[\"8:00\",...  "
      ]
     },
     "execution_count": 7,
     "metadata": {},
     "output_type": "execute_result"
    }
   ],
   "source": [
    "df.head(5)"
   ]
  },
  {
   "cell_type": "code",
   "execution_count": 8,
   "metadata": {},
   "outputs": [
    {
     "name": "stdout",
     "output_type": "stream",
     "text": [
      "<class 'pandas.core.frame.DataFrame'>\n",
      "RangeIndex: 1179095 entries, 0 to 1179094\n",
      "Data columns (total 2 columns):\n",
      "safegraph_place_id    1179095 non-null object\n",
      "open_hours            518168 non-null object\n",
      "dtypes: object(2)\n",
      "memory usage: 18.0+ MB\n"
     ]
    }
   ],
   "source": [
    "df.info()"
   ]
  },
  {
   "cell_type": "code",
   "execution_count": 9,
   "metadata": {},
   "outputs": [],
   "source": [
    "df = df[df[\"open_hours\"].notnull()].copy()"
   ]
  },
  {
   "cell_type": "code",
   "execution_count": 10,
   "metadata": {},
   "outputs": [
    {
     "name": "stdout",
     "output_type": "stream",
     "text": [
      "36.4271137714386\n"
     ]
    }
   ],
   "source": [
    "now = time.time()\n",
    "def turn_dict(x): \n",
    "    try:\n",
    "        return ast.literal_eval(x)\n",
    "    except:\n",
    "        empty_time = {\n",
    "            \"Mon\":[],\n",
    "            \"Tue\":[],\n",
    "            \"Wed\":[],\n",
    "            \"Thur\":[],\n",
    "            \"Fri\":[],\n",
    "            \"Sat\":[],\n",
    "            \"Sun\":[]\n",
    "        }\n",
    "        return empty_time\n",
    "\n",
    "df[\"open_hours\"] = df[\"open_hours\"].apply(lambda x: turn_dict(x))\n",
    "later = time.time()\n",
    "print(later - now)"
   ]
  },
  {
   "cell_type": "code",
   "execution_count": 11,
   "metadata": {},
   "outputs": [],
   "source": [
    "def _tstrp(t):\n",
    "    h, m  = t.split(\":\")\n",
    "    if int(h) > 23:\n",
    "        t = \"0:00\"\n",
    "    return datetime.strptime(t,\"%H:%M\")\n",
    "\n",
    "\n",
    "def _get_hours_period(val_list):\n",
    "    max_hours = 0\n",
    "    if len(val_list) == 0:\n",
    "        return 0\n",
    "    else:\n",
    "        for val in val_list:\n",
    "            open_t, close_t = _tstrp(val[0]), _tstrp(val[1])\n",
    "            hours = (close_t - open_t).seconds / 3600\n",
    "            if hours < 0:\n",
    "                hours = 24 + hours\n",
    "            if hours > max_hours:\n",
    "                max_hours = hours\n",
    "        return max_hours\n",
    "\n",
    "        \n",
    "def open_hours_df(df):\n",
    "    open_hours_ls = list()\n",
    "    for row in df.iterrows():\n",
    "        place_id, open_hours = row[1][0], row[1][1]\n",
    "        for key, val_list in open_hours.items():\n",
    "            day = open_hours\n",
    "            hours = _get_hours_period(val_list)\n",
    "            row = (place_id, key, hours)\n",
    "            open_hours_ls.append(row)\n",
    "\n",
    "    df = pd.DataFrame(\n",
    "        open_hours_ls, \n",
    "        columns = [\n",
    "            \"safegraph_place_id\", \n",
    "            \"weekday\",\n",
    "            \"open_hours\"])\n",
    "    return df \n",
    "        \n",
    "        "
   ]
  },
  {
   "cell_type": "code",
   "execution_count": 12,
   "metadata": {},
   "outputs": [
    {
     "name": "stdout",
     "output_type": "stream",
     "text": [
      "101.32674598693848\n"
     ]
    }
   ],
   "source": [
    "now = time.time()\n",
    "df_open = open_hours_df(df)\n",
    "later = time.time()\n",
    "print(later - now)"
   ]
  },
  {
   "cell_type": "code",
   "execution_count": null,
   "metadata": {},
   "outputs": [],
   "source": [
    "df_open.head(500)"
   ]
  },
  {
   "cell_type": "code",
   "execution_count": null,
   "metadata": {},
   "outputs": [],
   "source": [
    "df_open.shape"
   ]
  },
  {
   "cell_type": "code",
   "execution_count": null,
   "metadata": {},
   "outputs": [],
   "source": []
  },
  {
   "cell_type": "markdown",
   "metadata": {},
   "source": [
    "#### What's inside poi_hour_imputed"
   ]
  },
  {
   "cell_type": "code",
   "execution_count": null,
   "metadata": {},
   "outputs": [],
   "source": [
    "dd = pd.read_csv(\"data/processed/poi_hour_imputed.csv\")\n",
    "dd.shape"
   ]
  },
  {
   "cell_type": "code",
   "execution_count": null,
   "metadata": {},
   "outputs": [],
   "source": [
    "len(dd[\"safegraph_place_id\"].unique())"
   ]
  },
  {
   "cell_type": "code",
   "execution_count": null,
   "metadata": {},
   "outputs": [],
   "source": [
    "df = pd.read_csv(\n",
    "    \"data/external/Core-USA-July2020-Release-CORE_POI-2020_06-2020-07-13/core_poi-part1.csv.gz\",\n",
    "    compression=\"gzip\",\n",
    "    usecols = [\n",
    "        'safegraph_place_id', \n",
    "        'top_category',\n",
    "        'open_hours'])\n",
    "\n",
    "# df[df[\"top_category\"]]"
   ]
  },
  {
   "cell_type": "code",
   "execution_count": null,
   "metadata": {},
   "outputs": [],
   "source": [
    "s = [\"Restaurants and Other Eating Places\", \"Grocery Stores\"]\n",
    "df_filter = df[df[\"top_category\"].isin(s)].copy()\n",
    "len(df_filter[df_filter[\"open_hours\"].notnull()])"
   ]
  },
  {
   "cell_type": "code",
   "execution_count": null,
   "metadata": {},
   "outputs": [],
   "source": [
    "len(df[df[\"open_hours\"].notnull()])"
   ]
  },
  {
   "cell_type": "code",
   "execution_count": null,
   "metadata": {},
   "outputs": [],
   "source": [
    "df[\"top_category\"].value_counts()"
   ]
  },
  {
   "cell_type": "code",
   "execution_count": null,
   "metadata": {},
   "outputs": [],
   "source": [
    "td = datetime.strptime(\"05:00\",\"%H:%M\") - datetime.strptime(\"03:30\",\"%H:%M\") \n",
    "c = td.seconds / 3600\n",
    "cc = td.seconds % 3600\n",
    "c"
   ]
  },
  {
   "cell_type": "code",
   "execution_count": null,
   "metadata": {},
   "outputs": [],
   "source": [
    "divmod(td.seconds, 3600)"
   ]
  },
  {
   "cell_type": "code",
   "execution_count": null,
   "metadata": {},
   "outputs": [],
   "source": [
    "replace_str = \"(^City of |^Los Angeles - |^Unincorporated - )\"\n",
    "df = pd.read_csv(\"data/external/LA_County_Covid19_CSA_case_death_table.csv\")\n",
    "df[\"geo_merge\"] = df[\"geo_merge\"].apply(\n",
    "    lambda x: re.sub(r\"\".join(replace_str), \"\", x))\n",
    "df.to_csv(\n",
    "    \"data/processed/LA_County_Covid19_CSA_case_death_table.csv\",\n",
    "    index = False)"
   ]
  },
  {
   "cell_type": "code",
   "execution_count": null,
   "metadata": {},
   "outputs": [],
   "source": []
  }
 ],
 "metadata": {
  "kernelspec": {
   "display_name": "Python 3",
   "language": "python",
   "name": "python3"
  },
  "language_info": {
   "codemirror_mode": {
    "name": "ipython",
    "version": 3
   },
   "file_extension": ".py",
   "mimetype": "text/x-python",
   "name": "python",
   "nbconvert_exporter": "python",
   "pygments_lexer": "ipython3",
   "version": "3.7.3"
  }
 },
 "nbformat": 4,
 "nbformat_minor": 4
}
